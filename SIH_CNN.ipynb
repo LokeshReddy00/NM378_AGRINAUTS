{
  "nbformat": 4,
  "nbformat_minor": 0,
  "metadata": {
    "colab": {
      "name": "SIH - CNN",
      "provenance": [],
      "collapsed_sections": []
    },
    "kernelspec": {
      "name": "python3",
      "display_name": "Python 3"
    },
    "accelerator": "GPU"
  },
  "cells": [
    {
      "cell_type": "code",
      "metadata": {
        "id": "f4rAz3gw6xJq",
        "colab_type": "code",
        "colab": {}
      },
      "source": [
        ""
      ],
      "execution_count": null,
      "outputs": []
    },
    {
      "cell_type": "code",
      "metadata": {
        "id": "x59jWrdV8nlh",
        "colab_type": "code",
        "colab": {}
      },
      "source": [
        "!pip install tensorflowjs"
      ],
      "execution_count": null,
      "outputs": []
    },
    {
      "cell_type": "code",
      "metadata": {
        "id": "Lz8Ai1kZ8F4H",
        "colab_type": "code",
        "colab": {
          "base_uri": "https://localhost:8080/",
          "height": 121
        },
        "outputId": "f4fdb41d-bcaf-4fdc-e370-484f7dc751b8"
      },
      "source": [
        "from google.colab import drive\n",
        "drive.mount('/gdrive')"
      ],
      "execution_count": 1,
      "outputs": [
        {
          "output_type": "stream",
          "text": [
            "Go to this URL in a browser: https://accounts.google.com/o/oauth2/auth?client_id=947318989803-6bn6qk8qdgf4n4g3pfee6491hc0brc4i.apps.googleusercontent.com&redirect_uri=urn%3aietf%3awg%3aoauth%3a2.0%3aoob&response_type=code&scope=email%20https%3a%2f%2fwww.googleapis.com%2fauth%2fdocs.test%20https%3a%2f%2fwww.googleapis.com%2fauth%2fdrive%20https%3a%2f%2fwww.googleapis.com%2fauth%2fdrive.photos.readonly%20https%3a%2f%2fwww.googleapis.com%2fauth%2fpeopleapi.readonly\n",
            "\n",
            "Enter your authorization code:\n",
            "··········\n",
            "Mounted at /gdrive\n"
          ],
          "name": "stdout"
        }
      ]
    },
    {
      "cell_type": "code",
      "metadata": {
        "id": "-taDHAmOhSbA",
        "colab_type": "code",
        "colab": {
          "base_uri": "https://localhost:8080/",
          "height": 50
        },
        "outputId": "84a6cf3a-83e5-49c8-a35b-46ae15e3b9ad"
      },
      "source": [
        "import cv2\n",
        "import pathlib\n",
        "import os\n",
        "import numpy as np\n",
        "import tensorflow as tf\n",
        "import keras\n",
        "from keras.utils import to_categorical\n",
        "\n",
        "print('\\u2022 Using TensorFlow Version:', tf.__version__)"
      ],
      "execution_count": 1,
      "outputs": [
        {
          "output_type": "stream",
          "text": [
            "• Using TensorFlow Version: 2.3.0\n"
          ],
          "name": "stdout"
        },
        {
          "output_type": "stream",
          "text": [
            "Using TensorFlow backend.\n"
          ],
          "name": "stderr"
        }
      ]
    },
    {
      "cell_type": "code",
      "metadata": {
        "id": "_tQXnWJO8sle",
        "colab_type": "code",
        "colab": {}
      },
      "source": [
        "Train = '/gdrive/My Drive/SIH_2020/SIH DATASETS/25 crops dataset'\n",
        "Test = '/gdrive/My Drive/SIH_2020/SIH DATASETS/Test'"
      ],
      "execution_count": 2,
      "outputs": []
    },
    {
      "cell_type": "code",
      "metadata": {
        "id": "o2LJFlYbApL1",
        "colab_type": "code",
        "colab": {
          "base_uri": "https://localhost:8080/",
          "height": 50
        },
        "outputId": "12454975-3727-49df-e0ae-55bcf36fd5bf"
      },
      "source": [
        "train_labels=[]\n",
        "for i in os.listdir(Train):  \n",
        "    if (i.split('_')[0]=='apple'):\n",
        "        train_labels.append(0)\n",
        "    elif (i.split('_')[0]=='banana'):\n",
        "        train_labels.append(1)\n",
        "    elif (i.split('_')[0]=='beetroot'):\n",
        "        train_labels.append(2)\n",
        "    elif (i.split('_')[0])=='cauliflower':\n",
        "        train_labels.append(3)\n",
        "    elif (i.split('_')[0])=='coconut':\n",
        "        train_labels.append(4)\n",
        "    elif (i.split('_')[0])=='coffee':\n",
        "        train_labels.append(5)\n",
        "    elif (i.split('_')[0])=='cotton':\n",
        "        train_labels.append(6)\n",
        "    elif (i.split('_')[0])=='cucumber':\n",
        "        train_labels.append(7)\n",
        "    elif (i.split('_')[0])=='guava':\n",
        "        train_labels.append(8)\n",
        "    elif (i.split('_')[0]=='jute'):\n",
        "        train_labels.append(9)\n",
        "    elif (i.split('_')[0]=='lemon'):\n",
        "        train_labels.append(10)\n",
        "    elif (i.split('_')[0])=='maize':\n",
        "        train_labels.append(11)\n",
        "    elif (i.split('_')[0])=='millet':\n",
        "        train_labels.append(12)\n",
        "    elif (i.split('_')[0])=='onion':\n",
        "        train_labels.append(13)\n",
        "    elif (i.split('_')[0])=='orange':\n",
        "        train_labels.append(14)\n",
        "    elif (i.split('_')[0])=='paddy':\n",
        "        train_labels.append(15)\n",
        "    elif (i.split('_')[0])=='peas':\n",
        "        train_labels.append(16)\n",
        "    elif (i.split('_')[0]=='pineapple'):\n",
        "        train_labels.append(17)\n",
        "    elif (i.split('_')[0]=='potato'):\n",
        "        train_labels.append(18)\n",
        "    elif (i.split('_')[0])=='red':\n",
        "        train_labels.append(19)\n",
        "    elif (i.split('_')[0])=='sugarcane':\n",
        "        train_labels.append(20)\n",
        "    elif (i.split('_')[0])=='sunflower':\n",
        "        train_labels.append(21)\n",
        "    elif (i.split('_')[0])=='tomato':\n",
        "        train_labels.append(22)\n",
        "    elif (i.split('_')[0])=='watermelon':\n",
        "        train_labels.append(23)\n",
        "    elif (i.split('_')[0])=='wheat':\n",
        "        train_labels.append(24)\n",
        "\n",
        "test_labels=[]\n",
        "for i in os.listdir(Test):  \n",
        "    if (i.split('_')[0]=='apple'):\n",
        "        test_labels.append(0)\n",
        "    elif (i.split('_')[0]=='banana'):\n",
        "        test_labels.append(1)\n",
        "    elif (i.split('_')[0]=='beetroot'):\n",
        "        test_labels.append(2)\n",
        "    elif (i.split('_')[0])=='cauliflower':\n",
        "        test_labels.append(3)\n",
        "    elif (i.split('_')[0])=='coconut':\n",
        "        test_labels.append(4)\n",
        "    elif (i.split('_')[0])=='coffee':\n",
        "        test_labels.append(5)\n",
        "    elif (i.split('_')[0])=='cotton':\n",
        "        test_labels.append(6)\n",
        "    elif (i.split('_')[0])=='cucumber':\n",
        "        test_labels.append(7)\n",
        "    elif (i.split('_')[0])=='guava':\n",
        "        test_labels.append(8)\n",
        "    elif (i.split('_')[0]=='jute'):\n",
        "        test_labels.append(9)\n",
        "    elif (i.split('_')[0]=='lemon'):\n",
        "        test_labels.append(10)\n",
        "    elif (i.split('_')[0])=='maize':\n",
        "        test_labels.append(11)\n",
        "    elif (i.split('_')[0])=='millet':\n",
        "        test_labels.append(12)\n",
        "    elif (i.split('_')[0])=='onion':\n",
        "        test_labels.append(13)\n",
        "    elif (i.split('_')[0])=='orange':\n",
        "        test_labels.append(14)\n",
        "    elif (i.split('_')[0])=='paddy':\n",
        "        test_labels.append(15)\n",
        "    elif (i.split('_')[0])=='peas':\n",
        "        test_labels.append(16)\n",
        "    elif (i.split('_')[0]=='pineapple'):\n",
        "        test_labels.append(17)\n",
        "    elif (i.split('_')[0]=='potato'):\n",
        "        test_labels.append(18)\n",
        "    elif (i.split('_')[0])=='red':\n",
        "        test_labels.append(19)\n",
        "    elif (i.split('_')[0])=='sugarcane':\n",
        "        test_labels.append(20)\n",
        "    elif (i.split('_')[0])=='sunflower':\n",
        "        test_labels.append(21)\n",
        "    elif (i.split('_')[0])=='tomato':\n",
        "        test_labels.append(22)\n",
        "    elif (i.split('_')[0])=='watermelon':\n",
        "        test_labels.append(23)\n",
        "    elif (i.split('_')[0])=='wheat':\n",
        "        test_labels.append(24)\n",
        "\n",
        "print(len(train_labels))\n",
        "print(len(test_labels))"
      ],
      "execution_count": 3,
      "outputs": [
        {
          "output_type": "stream",
          "text": [
            "9520\n",
            "1690\n"
          ],
          "name": "stdout"
        }
      ]
    },
    {
      "cell_type": "code",
      "metadata": {
        "id": "0EpMwx3PBUFv",
        "colab_type": "code",
        "colab": {
          "base_uri": "https://localhost:8080/",
          "height": 50
        },
        "outputId": "d44c540e-a453-457c-b185-e51a4ba8c464"
      },
      "source": [
        "from tqdm import tqdm\n",
        "\n",
        "train_images=[]\n",
        "for i in tqdm (os.listdir(Train)):\n",
        "    path = os.path.join(Train,i)\n",
        "    img = cv2.imread(path)\n",
        "    img = cv2.cvtColor(img, cv2.COLOR_BGR2RGB)\n",
        "    img = cv2.resize(img,(100,100))\n",
        "    train_images.append(img)\n",
        "\n",
        "\n",
        "test_images=[]\n",
        "for i in tqdm (os.listdir(Test)):\n",
        "    path = os.path.join(Test,i)\n",
        "    img = cv2.imread(path)\n",
        "    img = cv2.cvtColor(img, cv2.COLOR_BGR2RGB)\n",
        "    img = cv2.resize(img,(100,100))\n",
        "    test_images.append(img)\n"
      ],
      "execution_count": 4,
      "outputs": [
        {
          "output_type": "stream",
          "text": [
            "100%|██████████| 9520/9520 [00:42<00:00, 222.18it/s]\n",
            "100%|██████████| 1690/1690 [00:04<00:00, 338.20it/s]\n"
          ],
          "name": "stderr"
        }
      ]
    },
    {
      "cell_type": "code",
      "metadata": {
        "id": "iC_H11qjIPa4",
        "colab_type": "code",
        "colab": {}
      },
      "source": [
        "\n",
        "train_images = np.array(train_images).reshape(-1, 100, 100, 3)\n",
        "train_images = train_images.astype('float32') / 255\n",
        "\n",
        "test_images = np.array(test_images).reshape(-1, 100, 100, 3)\n",
        "test_images = test_images.astype('float32') / 255\n",
        "\n",
        "train_labels = to_categorical(train_labels)\n",
        "test_labels = to_categorical(test_labels)"
      ],
      "execution_count": 5,
      "outputs": []
    },
    {
      "cell_type": "code",
      "metadata": {
        "id": "Mf-j8q8SbGxi",
        "colab_type": "code",
        "colab": {
          "base_uri": "https://localhost:8080/",
          "height": 84
        },
        "outputId": "d880110d-895a-4736-8470-552810dd72e1"
      },
      "source": [
        "print(train_images.shape)\n",
        "print(train_labels.shape)\n",
        "print(test_images.shape)\n",
        "print(test_labels.shape)"
      ],
      "execution_count": 16,
      "outputs": [
        {
          "output_type": "stream",
          "text": [
            "(9520, 100, 100, 3)\n",
            "(9520, 25)\n",
            "(1690, 100, 100, 3)\n",
            "(1690, 25)\n"
          ],
          "name": "stdout"
        }
      ]
    },
    {
      "cell_type": "markdown",
      "metadata": {
        "id": "OBFbl1c1JNwD",
        "colab_type": "text"
      },
      "source": [
        "**CNN MODEL DEVELOPMENT**"
      ]
    },
    {
      "cell_type": "code",
      "metadata": {
        "id": "mlU6UGFRmzv0",
        "colab_type": "code",
        "colab": {}
      },
      "source": [
        "# Building convolutional network ..... # USING INCEPTION MODULE\n",
        "\n",
        "input = tf.keras.Input(shape=(100,100,3))\n",
        "\n",
        "\n",
        "model_1 = tf.keras.layers.Conv2D(64,(1,1),padding='same',activation='relu')(input)\n",
        "model_1 = tf.keras.layers.Conv2D(64,(3,3),padding='same',activation='relu')(model_1)\n",
        "\n",
        "model_2 = tf.keras.layers.Conv2D(64,(1,1),padding='same',activation='relu')(input)\n",
        "model_2 = tf.keras.layers.Conv2D(64,(5,5),padding='same',activation='relu')(model_2)\n",
        "\n",
        "model_3 = tf.keras.layers.MaxPooling2D((3,3),strides=(1,1),padding='same')(input)\n",
        "model_3 = tf.keras.layers.Conv2D(64,(1,1),padding='same',activation='relu')(model_3)\n",
        "\n",
        "output = tf.keras.layers.concatenate([model_1, model_2, model_3], axis = 3)\n",
        "\n",
        "output = tf.keras.layers.Flatten()(output)\n",
        "output = tf.keras.layers.Dense(25,activation='softmax')(output)\n",
        "\n",
        "model = tf.keras.models.Model(inputs = input, outputs = output)"
      ],
      "execution_count": 29,
      "outputs": []
    },
    {
      "cell_type": "code",
      "metadata": {
        "id": "2Ae2xF9vmz1l",
        "colab_type": "code",
        "colab": {}
      },
      "source": [
        "model.compile(loss='categorical_crossentropy', optimizer='adam',metrics=['accuracy'])\n",
        "model.fit(train_images,train_labels,batch_size = 100, epochs=15)"
      ],
      "execution_count": null,
      "outputs": []
    },
    {
      "cell_type": "code",
      "metadata": {
        "id": "9en3x3OxLoa7",
        "colab_type": "code",
        "colab": {
          "base_uri": "https://localhost:8080/",
          "height": 487
        },
        "outputId": "8c939de6-392c-4f72-f044-9bb1179544b1"
      },
      "source": [
        "# Building convolutional network\n",
        "\n",
        "model = tf.keras.models.Sequential()\n",
        "\n",
        "# 1st CONV LAYER\n",
        "model.add(tf.keras.layers.Conv2D(16,(5,5),activation='relu',input_shape=(100,100,3)))\n",
        "model.add(tf.keras.layers.MaxPooling2D((2, 2)))\n",
        "\n",
        "#2nd CONV LAYER\n",
        "model.add(tf.keras.layers.Conv2D(32,(5,5),activation='relu'))\n",
        "model.add(tf.keras.layers.MaxPooling2D((2, 2)))\n",
        "\n",
        "#3rd CONV LAYER\n",
        "model.add(tf.keras.layers.Conv2D(64, (5, 5), activation='relu'))\n",
        "model.add(tf.keras.layers.MaxPooling2D((2, 2)))\n",
        "\n",
        "model.add(tf.keras.layers.Flatten())\n",
        "model.add(tf.keras.layers.Dense(512,activation='relu')) \n",
        "model.add(tf.keras.layers.Dense(128,activation='relu')) \n",
        "model.add(tf.keras.layers.Dense(25, activation='softmax'))\n",
        "\n",
        "model.summary()"
      ],
      "execution_count": 14,
      "outputs": [
        {
          "output_type": "stream",
          "text": [
            "Model: \"sequential\"\n",
            "_________________________________________________________________\n",
            "Layer (type)                 Output Shape              Param #   \n",
            "=================================================================\n",
            "conv2d (Conv2D)              (None, 96, 96, 16)        1216      \n",
            "_________________________________________________________________\n",
            "max_pooling2d (MaxPooling2D) (None, 48, 48, 16)        0         \n",
            "_________________________________________________________________\n",
            "conv2d_1 (Conv2D)            (None, 44, 44, 32)        12832     \n",
            "_________________________________________________________________\n",
            "max_pooling2d_1 (MaxPooling2 (None, 22, 22, 32)        0         \n",
            "_________________________________________________________________\n",
            "conv2d_2 (Conv2D)            (None, 18, 18, 64)        51264     \n",
            "_________________________________________________________________\n",
            "max_pooling2d_2 (MaxPooling2 (None, 9, 9, 64)          0         \n",
            "_________________________________________________________________\n",
            "flatten (Flatten)            (None, 5184)              0         \n",
            "_________________________________________________________________\n",
            "dense (Dense)                (None, 512)               2654720   \n",
            "_________________________________________________________________\n",
            "dense_1 (Dense)              (None, 128)               65664     \n",
            "_________________________________________________________________\n",
            "dense_2 (Dense)              (None, 25)                3225      \n",
            "=================================================================\n",
            "Total params: 2,788,921\n",
            "Trainable params: 2,788,921\n",
            "Non-trainable params: 0\n",
            "_________________________________________________________________\n"
          ],
          "name": "stdout"
        }
      ]
    },
    {
      "cell_type": "code",
      "metadata": {
        "id": "i2iglP_4Edb-",
        "colab_type": "code",
        "colab": {
          "base_uri": "https://localhost:8080/",
          "height": 538
        },
        "outputId": "542af60a-e58a-4fbe-e6af-dfd59fbc24fd"
      },
      "source": [
        "model.compile(loss='categorical_crossentropy', optimizer='adam',metrics=['accuracy'])\n",
        "model.fit(train_images,train_labels,batch_size = 100, epochs=15)"
      ],
      "execution_count": null,
      "outputs": [
        {
          "output_type": "stream",
          "text": [
            "Epoch 1/15\n",
            "96/96 [==============================] - 136s 1s/step - loss: 1.3529 - accuracy: 0.6029\n",
            "Epoch 2/15\n",
            "96/96 [==============================] - 134s 1s/step - loss: 0.7036 - accuracy: 0.7820\n",
            "Epoch 3/15\n",
            "96/96 [==============================] - 135s 1s/step - loss: 0.6147 - accuracy: 0.7958\n",
            "Epoch 4/15\n",
            "96/96 [==============================] - 131s 1s/step - loss: 0.5534 - accuracy: 0.8175\n",
            "Epoch 5/15\n",
            "96/96 [==============================] - 130s 1s/step - loss: 0.4770 - accuracy: 0.8454\n",
            "Epoch 6/15\n",
            "96/96 [==============================] - 129s 1s/step - loss: 0.4406 - accuracy: 0.8509\n",
            "Epoch 7/15\n",
            "96/96 [==============================] - 130s 1s/step - loss: 0.4083 - accuracy: 0.8629\n",
            "Epoch 8/15\n",
            "96/96 [==============================] - 133s 1s/step - loss: 0.3363 - accuracy: 0.8883\n",
            "Epoch 9/15\n",
            "96/96 [==============================] - 132s 1s/step - loss: 0.3197 - accuracy: 0.8964\n",
            "Epoch 10/15\n",
            "96/96 [==============================] - 133s 1s/step - loss: 0.2659 - accuracy: 0.9119\n",
            "Epoch 11/15\n",
            "96/96 [==============================] - 135s 1s/step - loss: 0.2312 - accuracy: 0.9247\n",
            "Epoch 12/15\n",
            "96/96 [==============================] - 135s 1s/step - loss: 0.1670 - accuracy: 0.9436\n",
            "Epoch 13/15\n",
            "96/96 [==============================] - 135s 1s/step - loss: 0.1212 - accuracy: 0.9610\n",
            "Epoch 14/15\n",
            "96/96 [==============================] - 136s 1s/step - loss: 0.1099 - accuracy: 0.9629\n",
            "Epoch 15/15\n",
            "96/96 [==============================] - 137s 1s/step - loss: 0.0975 - accuracy: 0.9703\n"
          ],
          "name": "stdout"
        },
        {
          "output_type": "execute_result",
          "data": {
            "text/plain": [
              "<tensorflow.python.keras.callbacks.History at 0x7f4e3b34a080>"
            ]
          },
          "metadata": {
            "tags": []
          },
          "execution_count": 16
        }
      ]
    },
    {
      "cell_type": "code",
      "metadata": {
        "id": "Fl3rMi-PmbO6",
        "colab_type": "code",
        "colab": {}
      },
      "source": [
        "# VALIDATION"
      ],
      "execution_count": null,
      "outputs": []
    },
    {
      "cell_type": "code",
      "metadata": {
        "id": "NoG3FquCTdg3",
        "colab_type": "code",
        "colab": {
          "base_uri": "https://localhost:8080/",
          "height": 50
        },
        "outputId": "20030f65-e6ce-45f1-afe0-ef29dcd71391"
      },
      "source": [
        "test_loss, test_acc = model.evaluate(test_images, test_labels)\n",
        "print('Test accuracy:', test_acc)"
      ],
      "execution_count": null,
      "outputs": [
        {
          "output_type": "stream",
          "text": [
            "53/53 [==============================] - 7s 140ms/step - loss: 0.0424 - accuracy: 0.9893\n",
            "Test accuracy: 0.9893491268157959\n"
          ],
          "name": "stdout"
        }
      ]
    },
    {
      "cell_type": "code",
      "metadata": {
        "id": "Lk6vcaUomWG9",
        "colab_type": "code",
        "colab": {}
      },
      "source": [
        "# TESTING"
      ],
      "execution_count": null,
      "outputs": []
    },
    {
      "cell_type": "code",
      "metadata": {
        "id": "mQXt1fb_enKO",
        "colab_type": "code",
        "colab": {}
      },
      "source": [
        "loc = '/gdrive/My Drive/SIH_2020/SIH DATASETS/jute_1.jpg'\n",
        "img = cv2.imread(loc)\n",
        "img = cv2.resize(img,(100,100))\n",
        "img = cv2.cvtColor(img, cv2.COLOR_BGR2RGB)"
      ],
      "execution_count": null,
      "outputs": []
    },
    {
      "cell_type": "code",
      "metadata": {
        "id": "pEyMs1tHlkH3",
        "colab_type": "code",
        "colab": {}
      },
      "source": [
        "img = np.array(img).reshape(1, 100, 100, 3)"
      ],
      "execution_count": null,
      "outputs": []
    },
    {
      "cell_type": "code",
      "metadata": {
        "id": "o7zNHNhbkoeS",
        "colab_type": "code",
        "colab": {
          "base_uri": "https://localhost:8080/",
          "height": 50
        },
        "outputId": "5f7e67c8-7ddc-4a02-ab61-a0cf68519ab5"
      },
      "source": [
        "print(model.predict(img))"
      ],
      "execution_count": null,
      "outputs": [
        {
          "output_type": "stream",
          "text": [
            "[[0. 0. 0. 0. 0. 0. 0. 0. 0. 1. 0. 0. 0. 0. 0. 0. 0. 0. 0. 0. 0. 0. 0. 0.\n",
            "  0.]]\n"
          ],
          "name": "stdout"
        }
      ]
    },
    {
      "cell_type": "markdown",
      "metadata": {
        "id": "3-oeq7tqBhYW",
        "colab_type": "text"
      },
      "source": [
        "**EXPORTING FILES**"
      ]
    },
    {
      "cell_type": "code",
      "metadata": {
        "id": "7Nk8gCsEmiwf",
        "colab_type": "code",
        "colab": {}
      },
      "source": [
        "# .h5 file \n",
        "\n",
        "import time\n",
        "saved_model_path = \"./{}.h5\".format(int(time.time()))\n",
        "model.save(saved_model_path)\n",
        "\n",
        "# json file \n",
        "\n",
        "!tensorflowjs_converter --input_format=keras {saved_model_path} ./"
      ],
      "execution_count": null,
      "outputs": []
    },
    {
      "cell_type": "code",
      "metadata": {
        "id": "0K75bkfkodu7",
        "colab_type": "code",
        "colab": {
          "base_uri": "https://localhost:8080/",
          "height": 171
        },
        "outputId": "0737b1c7-a017-4827-e3f0-657f6b415e23"
      },
      "source": [
        "# Saved model file\n",
        "\n",
        "export_dir = 'saved_model/1'\n",
        "tf.saved_model.save(model, export_dir)\n",
        "\n",
        "# tflite file\n",
        "\n",
        "converter = tf.lite.TFLiteConverter.from_saved_model(export_dir)\n",
        "tflite_model = converter.convert()\n",
        "\n",
        "tflite_model_file = pathlib.Path('model.tflite')\n",
        "tflite_model_file.write_bytes(tflite_model)"
      ],
      "execution_count": null,
      "outputs": [
        {
          "output_type": "stream",
          "text": [
            "WARNING:tensorflow:From /usr/local/lib/python3.6/dist-packages/tensorflow/python/training/tracking/tracking.py:111: Model.state_updates (from tensorflow.python.keras.engine.training) is deprecated and will be removed in a future version.\n",
            "Instructions for updating:\n",
            "This property should not be used in TensorFlow 2.0, as updates are applied automatically.\n",
            "WARNING:tensorflow:From /usr/local/lib/python3.6/dist-packages/tensorflow/python/training/tracking/tracking.py:111: Layer.updates (from tensorflow.python.keras.engine.base_layer) is deprecated and will be removed in a future version.\n",
            "Instructions for updating:\n",
            "This property should not be used in TensorFlow 2.0, as updates are applied automatically.\n",
            "INFO:tensorflow:Assets written to: saved_model/1/assets\n"
          ],
          "name": "stdout"
        },
        {
          "output_type": "execute_result",
          "data": {
            "text/plain": [
              "11160628"
            ]
          },
          "metadata": {
            "tags": []
          },
          "execution_count": 22
        }
      ]
    },
    {
      "cell_type": "code",
      "metadata": {
        "id": "85BhAdz2quvo",
        "colab_type": "code",
        "colab": {}
      },
      "source": [
        "# label.txt file\n",
        "\n",
        "labels = ['apple', 'banana', 'beetroot', 'cauliflower', 'coconut', 'coffee', 'cotton', 'cucumber', 'guava', 'jute', 'lemon', 'maize', 'millet', 'onion', 'orange', 'paddy', 'peas', 'pineapple', 'potato', 'red', 'sugarcane', 'sunflower', 'tomato', 'watermelon', 'wheat']\n",
        "\n",
        "with open('labels.txt', 'w') as f:\n",
        "    f.write('\\n'.join(labels))"
      ],
      "execution_count": null,
      "outputs": []
    },
    {
      "cell_type": "code",
      "metadata": {
        "id": "Z0tbpq_Kk2Q2",
        "colab_type": "code",
        "colab": {
          "base_uri": "https://localhost:8080/",
          "height": 34
        },
        "outputId": "c6a6ce69-e766-480d-aed4-27eae23800de"
      },
      "source": [
        "# DOWNLOAD tflite FILE\n",
        "\n",
        "try:\n",
        "    from google.colab import files\n",
        "    files.download(tflite_model_file)\n",
        "except:\n",
        "    pass"
      ],
      "execution_count": null,
      "outputs": [
        {
          "output_type": "display_data",
          "data": {
            "application/javascript": [
              "\n",
              "    async function download(id, filename, size) {\n",
              "      if (!google.colab.kernel.accessAllowed) {\n",
              "        return;\n",
              "      }\n",
              "      const div = document.createElement('div');\n",
              "      const label = document.createElement('label');\n",
              "      label.textContent = `Downloading \"${filename}\": `;\n",
              "      div.appendChild(label);\n",
              "      const progress = document.createElement('progress');\n",
              "      progress.max = size;\n",
              "      div.appendChild(progress);\n",
              "      document.body.appendChild(div);\n",
              "\n",
              "      const buffers = [];\n",
              "      let downloaded = 0;\n",
              "\n",
              "      const channel = await google.colab.kernel.comms.open(id);\n",
              "      // Send a message to notify the kernel that we're ready.\n",
              "      channel.send({})\n",
              "\n",
              "      for await (const message of channel.messages) {\n",
              "        // Send a message to notify the kernel that we're ready.\n",
              "        channel.send({})\n",
              "        if (message.buffers) {\n",
              "          for (const buffer of message.buffers) {\n",
              "            buffers.push(buffer);\n",
              "            downloaded += buffer.byteLength;\n",
              "            progress.value = downloaded;\n",
              "          }\n",
              "        }\n",
              "      }\n",
              "      const blob = new Blob(buffers, {type: 'application/binary'});\n",
              "      const a = document.createElement('a');\n",
              "      a.href = window.URL.createObjectURL(blob);\n",
              "      a.download = filename;\n",
              "      div.appendChild(a);\n",
              "      a.click();\n",
              "      div.remove();\n",
              "    }\n",
              "  "
            ],
            "text/plain": [
              "<IPython.core.display.Javascript object>"
            ]
          },
          "metadata": {
            "tags": []
          }
        },
        {
          "output_type": "display_data",
          "data": {
            "application/javascript": [
              "download(\"download_f72df7b5-a80a-42f1-aa59-a18d3d540ae3\", \"model.tflite\", 11152604)"
            ],
            "text/plain": [
              "<IPython.core.display.Javascript object>"
            ]
          },
          "metadata": {
            "tags": []
          }
        }
      ]
    },
    {
      "cell_type": "code",
      "metadata": {
        "id": "EdTt04s3EJsu",
        "colab_type": "code",
        "colab": {}
      },
      "source": [
        ""
      ],
      "execution_count": null,
      "outputs": []
    }
  ]
}